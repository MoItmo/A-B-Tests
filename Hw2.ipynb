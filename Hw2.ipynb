{
  "nbformat": 4,
  "nbformat_minor": 0,
  "metadata": {
    "colab": {
      "provenance": []
    },
    "kernelspec": {
      "name": "python3",
      "display_name": "Python 3"
    },
    "language_info": {
      "name": "python"
    }
  },
  "cells": [
    {
      "cell_type": "markdown",
      "source": [
        "# ДЗ 2:\n",
        "\n",
        "1. Применить ранговую трансформацию (потом t-test) и сравнить с результатами по Манну-Уитни на:\n",
        "- метрике cart_added_cnt (5 баллов)\n",
        "\n",
        "2. Реализовать cuped-трансформацию и сравнить мощность t-критерия на:\n",
        "- обычной метрике cart_added_cnt (5 баллов)\n",
        "- логарфимированной метрике cart_added_cnt (5 баллов)\n",
        "- метрике cart_added_cnt (а после подвергнуть ранговому преобразованию) (5 баллов)\n",
        "\n",
        "\n",
        "В каждом случае фиксировать, на сколько сокращается дисперсия, проверять равны ли средние в группах в ковариате и совпадают ли средние в метрике до и после применения cuped\n",
        "(+ 5 балла за обьяснения и выводы)\n",
        "\n",
        "\n",
        "3. Реализовать разбивку на бакеты, оценить t-критерием и сравнить с результатом без бакетирования:\n",
        "- на логнормальном распределении (сгенерированные данные) (5 баллов)\n",
        "- на метрике cart_added_cnt (5 баллов)\n",
        "\n",
        "\n",
        "4. Реализовать постстратификацию на данных shop_metrics_old для метрики cart_added_cnt:\n",
        "- на сочетании пола и возраста (возраст разбить на подгруппы: 18-24, 25-45, 46-60, 61-75, 76+) (5 баллов)\n",
        "подсчитать результаты для случая без постстратификации и с постстратификацией\n",
        "- проверить мощность и корректность t-критерия для постстратифицированного случая (5 баллов)\n",
        "\n",
        "\n",
        "(+ 5 балла за обьяснения и выводы)"
      ],
      "metadata": {
        "id": "4J9o80bN6bhq"
      }
    },
    {
      "cell_type": "code",
      "source": [
        "# Imports\n",
        "import os\n",
        "import hashlib\n",
        "from base64 import b64encode\n",
        "import numpy as np\n",
        "import pandas as pd\n",
        "import scipy.stats as stats\n",
        "import matplotlib.pyplot as plt\n",
        "import seaborn as sns\n",
        "from tqdm import tqdm"
      ],
      "metadata": {
        "id": "N6IXHF0AEuxU"
      },
      "execution_count": null,
      "outputs": []
    },
    {
      "cell_type": "code",
      "source": [
        "from google.colab import drive\n",
        "import pandas as pd\n",
        "\n",
        "# Подключение Google Drive\n",
        "drive.mount('/content/drive')\n",
        "\n",
        "# Чтение данных\n",
        "shop_metrics_new = pd.read_csv('/content/drive/MyDrive/data_ab_homework2/shop_df_metrics_dec.csv').drop(columns='Unnamed: 0')\n",
        "shop_metrics_old = pd.read_csv('/content/drive/MyDrive/data_ab_homework2/shop_df_metrics_sept.csv').drop(columns='Unnamed: 0')\n",
        "shop_users_info = pd.read_csv('/content/drive/MyDrive/data_ab_homework2/shop_df_users.csv').drop(columns='Unnamed: 0')"
      ],
      "metadata": {
        "id": "v-nQUsHyJnSL",
        "colab": {
          "base_uri": "https://localhost:8080/"
        },
        "outputId": "da4ae3a3-6b3b-4540-a54d-99ae9958ad22"
      },
      "execution_count": null,
      "outputs": [
        {
          "output_type": "stream",
          "name": "stdout",
          "text": [
            "Mounted at /content/drive\n"
          ]
        }
      ]
    },
    {
      "cell_type": "code",
      "source": [
        "def salt_generator():\n",
        "    \"\"\"Генерирует случайную соль для хеширования\"\"\"\n",
        "    salt = os.urandom(8)\n",
        "    return b64encode(salt).decode('ascii')\n",
        "\n",
        "def groups_splitter(df, user_salt=None):\n",
        "    \"\"\"\n",
        "    Разбивает пользователей на группы A/B с помощью хеширования\n",
        "\n",
        "    Parameters:\n",
        "    -----------\n",
        "    df : pd.DataFrame\n",
        "        Датафрейм с колонкой user_id\n",
        "    user_salt : str, optional\n",
        "        Соль для хеширования\n",
        "\n",
        "    Returns:\n",
        "    --------\n",
        "    pd.DataFrame\n",
        "        Датафрейм с колонками user_id и group\n",
        "    \"\"\"\n",
        "    salt = user_salt if user_salt else salt_generator()\n",
        "    df['hash'] = (df['user_id'].astype(str) + '#' + salt).apply(\n",
        "        lambda x: hashlib.sha256(x.encode('utf-8')).hexdigest()\n",
        "    )\n",
        "    df['group'] = (df['hash'].str.slice(start=-6).apply(int, base=16) % 2).map(\n",
        "        {0: 'A', 1: 'B'}\n",
        "    )\n",
        "    return df[['user_id', 'group']].drop_duplicates()"
      ],
      "metadata": {
        "id": "v7Y9yrjgE2Dq"
      },
      "execution_count": null,
      "outputs": []
    },
    {
      "cell_type": "markdown",
      "source": [
        "#**1. Применить ранговую трансформацию (потом t-test) и сравнить с результатами по Манну-Уитни**:"
      ],
      "metadata": {
        "id": "Ch2zdbsV6fi6"
      }
    },
    {
      "cell_type": "code",
      "source": [
        "# Cell 4: Exploratory Data Analysis\n",
        "TARGET_METRIC = \"cart_added_cnt\"\n",
        "\n",
        "# Визуализация распределения метрики\n",
        "plt.figure(figsize=(10, 6))\n",
        "sns.histplot(data=shop_metrics_new, x=TARGET_METRIC, bins=100, color='green')\n",
        "plt.title('Распределение количества товаров в корзине')\n",
        "plt.xlabel('Количество товаров')\n",
        "plt.ylabel('Частота')\n",
        "plt.show()\n",
        "\n",
        "# Статистические показатели по группам\n",
        "print(\"Статистика по группам:\")\n",
        "print(shop_metrics_new.groupby('group')[TARGET_METRIC].describe())\n",
        "\n",
        "# Анализ экстремальных значений\n",
        "percentile_99 = np.percentile(shop_metrics_new[TARGET_METRIC], 99.9)\n",
        "top_users_count = shop_metrics_new[shop_metrics_new[TARGET_METRIC] > 6]['user_id'].count()\n",
        "print(f\"\\n99.9-й перцентиль: {percentile_99:.2f}\")\n",
        "print(f\"Количество пользователей в топ 1%: {top_users_count}\")"
      ],
      "metadata": {
        "colab": {
          "base_uri": "https://localhost:8080/",
          "height": 703
        },
        "id": "So6n1wj3-OG7",
        "outputId": "b7394506-a7d0-47fa-b9f0-4756ba628178"
      },
      "execution_count": null,
      "outputs": [
        {
          "output_type": "display_data",
          "data": {
            "text/plain": [
              "<Figure size 1000x600 with 1 Axes>"
            ],
            "image/png": "[encoded data removed]"
          },
          "metadata": {}
        },
        {
          "output_type": "stream",
          "name": "stdout",
          "text": [
            "Статистика по группам:\n",
            "          count      mean       std  min  25%  50%  75%   max\n",
            "group                                                        \n",
            "A      111321.0  0.135042  0.616917  0.0  0.0  0.0  0.0  61.0\n",
            "B      111200.0  0.138552  0.651705  0.0  0.0  0.0  0.0  75.0\n",
            "\n",
            "99.9-й перцентиль: 6.00\n",
            "Количество пользователей в топ 1%: 213\n"
          ]
        }
      ]
    },
    {
      "cell_type": "code",
      "source": [
        "def run_statistical_tests(data, metric, n_iterations=1000, effect_size=0.05, effect_noise=0.35):\n",
        "    \"\"\"\n",
        "    Проводит статистические тесты (t-test и U-test) и оценивает их мощность и корректность\n",
        "\n",
        "    Parameters:\n",
        "    -----------\n",
        "    data : pd.DataFrame\n",
        "        Исходный датафрейм\n",
        "    metric : str\n",
        "        Название целевой метрики\n",
        "    n_iterations : int\n",
        "        Количество итераций для оценки\n",
        "    effect_size : float\n",
        "        Размер эффекта для оценки мощности\n",
        "    effect_noise : float\n",
        "        Шум для моделирования эффекта\n",
        "\n",
        "    Returns:\n",
        "    --------\n",
        "    dict\n",
        "        Результаты тестов\n",
        "    \"\"\"\n",
        "    results = {\n",
        "        't_test': {'correctness': [], 'power': []},\n",
        "        'u_test': {'correctness': [], 'power': []}\n",
        "    }\n",
        "\n",
        "    shop = data.drop(columns=['group'])\n",
        "\n",
        "    for _ in tqdm(range(n_iterations)):\n",
        "        new_group = groups_splitter(shop.copy(), user_salt=salt_generator())\n",
        "        new_df = pd.merge(shop, new_group, how=\"left\", on=['user_id']).drop_duplicates()\n",
        "\n",
        "        vec_a = new_df[new_df['group'] == 'A'][metric]\n",
        "        vec_b = new_df[new_df['group'] == 'B'][metric]\n",
        "        vec_b_effect = vec_b + stats.norm.rvs(\n",
        "            loc=vec_b.mean() * effect_size,\n",
        "            scale=effect_noise,\n",
        "            size=len(vec_b)\n",
        "        )\n",
        "\n",
        "        # T-test\n",
        "        t_cor, t_power = stats.ttest_ind(vec_a, vec_b)[1], stats.ttest_ind(vec_a, vec_b_effect)[1]\n",
        "        results['t_test']['correctness'].append(t_cor)\n",
        "        results['t_test']['power'].append(t_power)\n",
        "\n",
        "        # U-test\n",
        "        u_cor, u_power = stats.mannwhitneyu(vec_a, vec_b)[1], stats.mannwhitneyu(vec_a, vec_b_effect)[1]\n",
        "        results['u_test']['correctness'].append(u_cor)\n",
        "        results['u_test']['power'].append(u_power)\n",
        "\n",
        "    return results"
      ],
      "metadata": {
        "id": "0kPZwOjd-Wb-"
      },
      "execution_count": null,
      "outputs": []
    },
    {
      "cell_type": "code",
      "source": [
        "results = run_statistical_tests(data=shop_metrics_new, metric=TARGET_METRIC, n_iterations=50)\n",
        "\n",
        "for test_name, test_results in results.items():\n",
        "    correctness = np.array(test_results['correctness'])\n",
        "    power = np.array(test_results['power'])\n",
        "\n",
        "    plt.figure(figsize=(10, 5))\n",
        "    sns.histplot(data=correctness, bins=10, color='purple', kde=True)\n",
        "    plt.title(f'Распределение p-value для {test_name}')\n",
        "    plt.show()\n",
        "\n",
        "    power_rate = (power < 0.05).mean() * 100\n",
        "    correctness_rate = (1 - (correctness < 0.05).mean()) * 100\n",
        "\n",
        "    print(f\"\\nРезультаты для {test_name}:\")\n",
        "    print(f\"Мощность: {power_rate:.2f}%\")\n",
        "    print(f\"Корректность: {correctness_rate:.2f}%\")"
      ],
      "metadata": {
        "colab": {
          "base_uri": "https://localhost:8080/",
          "height": 1000
        },
        "id": "_dUMLHmgEDcT",
        "outputId": "fc12eedb-1604-44be-a1e9-8ac1a43e83bf"
      },
      "execution_count": null,
      "outputs": [
        {
          "output_type": "stream",
          "name": "stderr",
          "text": [
            "100%|██████████| 50/50 [00:50<00:00,  1.00s/it]\n"
          ]
        },
        {
          "output_type": "display_data",
          "data": {
            "text/plain": [
              "<Figure size 1000x500 with 1 Axes>"
            ],
            "image/png": "[encoded data removed]"
          },
          "metadata": {}
        },
        {
          "output_type": "stream",
          "name": "stdout",
          "text": [
            "\n",
            "Результаты для t_test:\n",
            "Мощность: 60.00%\n",
            "Корректность: 90.00%\n"
          ]
        },
        {
          "output_type": "display_data",
          "data": {
            "text/plain": [
              "<Figure size 1000x500 with 1 Axes>"
            ],
            "image/png": "[encoded data removed]"
          },
          "metadata": {}
        },
        {
          "output_type": "stream",
          "name": "stdout",
          "text": [
            "\n",
            "Результаты для u_test:\n",
            "Мощность: 100.00%\n",
            "Корректность: 92.00%\n"
          ]
        }
      ]
    },
    {
      "cell_type": "code",
      "source": [
        "# Ранговая трансформация\n",
        "def rank_transform(data, metric):\n",
        "    data[f'{metric}_ranked'] = data[metric].rank()\n",
        "    return data\n",
        "\n",
        "# Применение ранговой трансформации\n",
        "shop_metrics_ranked = rank_transform(shop_metrics_new.copy(), TARGET_METRIC)\n",
        "\n",
        "# Сравнение статистических показателей до и после ранговой трансформации\n",
        "print(\"Статистика до ранговой трансформации:\")\n",
        "print(shop_metrics_new.groupby('group')[TARGET_METRIC].agg(['mean', 'var']))\n",
        "\n",
        "print(\"\\nСтатистика после ранговой трансформации:\")\n",
        "print(shop_metrics_ranked.groupby('group')[f'{TARGET_METRIC}_ranked'].agg(['mean', 'var']))\n",
        "\n",
        "# Проведение t-теста и теста Манна-Уитни после ранговой трансформации\n",
        "vec_a_ranked = shop_metrics_ranked[shop_metrics_ranked['group'] == 'A'][f'{TARGET_METRIC}_ranked']\n",
        "vec_b_ranked = shop_metrics_ranked[shop_metrics_ranked['group'] == 'B'][f'{TARGET_METRIC}_ranked']\n",
        "\n",
        "t_stat_ranked, p_value_t_ranked = stats.ttest_ind(vec_a_ranked, vec_b_ranked)\n",
        "u_stat_ranked, p_value_u_ranked = stats.mannwhitneyu(vec_a_ranked, vec_b_ranked)\n",
        "\n",
        "print(\"\\nРезультаты t-теста на ранговой метрике:\")\n",
        "print(f\"t-statistic: {t_stat_ranked:.4f}, p-value: {p_value_t_ranked:.4f}\")\n",
        "\n",
        "print(\"\\nРезультаты теста Манна-Уитни на ранговой метрике:\")\n",
        "print(f\"u-statistic: {u_stat_ranked:.4f}, p-value: {p_value_u_ranked:.4f}\")"
      ],
      "metadata": {
        "colab": {
          "base_uri": "https://localhost:8080/"
        },
        "id": "puEKVuk6TQfI",
        "outputId": "9e5a2eb1-5be9-49f9-c467-3703c8ef6ed8"
      },
      "execution_count": null,
      "outputs": [
        {
          "output_type": "stream",
          "name": "stdout",
          "text": [
            "Статистика до ранговой трансформации:\n",
            "           mean       var\n",
            "group                    \n",
            "A      0.135042  0.380587\n",
            "B      0.138552  0.424719\n",
            "\n",
            "Статистика после ранговой трансформации:\n",
            "                mean           var\n",
            "group                             \n",
            "A      111170.456333  1.116109e+09\n",
            "B      111351.642190  1.132937e+09\n",
            "\n",
            "Результаты t-теста на ранговой метрике:\n",
            "t-statistic: -1.2744, p-value: 0.2025\n",
            "\n",
            "Результаты теста Манна-Уитни на ранговой метрике:\n",
            "u-statistic: 6179368188.5000, p-value: 0.2025\n"
          ]
        }
      ]
    },
    {
      "cell_type": "markdown",
      "source": [
        "## Выводы\n",
        "**Ранговая трансформация:**\n",
        "\n",
        "* Уменьшает влияние выбросов, преобразуя значения в ранги.\n",
        "* Средние значения после ранговой трансформации не имеют прямой интерпретации, так как они связаны с распределением рангов.\n",
        "\n",
        "**Сравнение t-теста и Манна-Уитни:**\n",
        "\n",
        "* Оба теста дали одинаковые результаты (p-value = 0.2025), что подтверждает отсутствие значимых различий.\n",
        "* Тест Манна-Уитни лучше подходит для анализа рангов, но в данном случае он не обнаружил различий.\n",
        "\n",
        "**Дисперсия:**\n",
        "\n",
        "* После ранговой трансформации дисперсия значительно увеличилась, что ожидаемо, так как распределение рангов растянуто."
      ],
      "metadata": {
        "id": "4mOPmBCnUVHP"
      }
    },
    {
      "cell_type": "markdown",
      "source": [
        "# **2. Реализовать cuped-трансформацию и сравнить мощность t-критерия**:"
      ],
      "metadata": {
        "id": "EGploKCH61TN"
      }
    },
    {
      "cell_type": "code",
      "source": [
        "def apply_cuped(df, metrics):\n",
        "    \"\"\"Применение CUPED-трансформации к метрикам.\"\"\"\n",
        "    new_columns = [f'{m}_cuped' for m in metrics]\n",
        "    df[new_columns] = pd.DataFrame([[0] * len(new_columns)], index=df.index)\n",
        "    df_filled = df.fillna(0)\n",
        "    for m in metrics:\n",
        "        covariate_column = f'{m}_covariate'\n",
        "        cuped_column = f'{m}_cuped'\n",
        "        mean_covariate = df_filled[covariate_column].mean()\n",
        "        theta = df_filled[m].cov(df_filled[covariate_column]) / df_filled[covariate_column].var()\n",
        "        df_filled[cuped_column] = df_filled[m] - (df_filled[covariate_column] - mean_covariate) * theta\n",
        "    df.update(df_filled)\n",
        "    return df.drop_duplicates()\n",
        "\n",
        "# Применение CUPED к обычной метрике\n",
        "shop_metrics_all = pd.merge(shop_metrics_new, shop_metrics_old[['user_id', TARGET_METRIC]], on=['user_id'], how='left')\n",
        "shop_metrics_all = shop_metrics_all.rename(columns={f'{TARGET_METRIC}_x': TARGET_METRIC, f'{TARGET_METRIC}_y': f'{TARGET_METRIC}_covariate'})\n",
        "shop_metrics_all_cuped = apply_cuped(shop_metrics_all.copy(), [TARGET_METRIC])\n",
        "\n",
        "# Сравнение средних и дисперсий до и после CUPED\n",
        "print(\"Сравнение до и после CUPED:\")\n",
        "print(f'CUPED A: {shop_metrics_all_cuped[shop_metrics_all_cuped.group == \"A\"][f\"{TARGET_METRIC}_cuped\"].mean():.2f}, '\n",
        "      f'CUPED B: {shop_metrics_all_cuped[shop_metrics_all_cuped.group == \"B\"][f\"{TARGET_METRIC}_cuped\"].mean():.2f}')\n",
        "print(f'Without CUPED A: {shop_metrics_all_cuped[shop_metrics_all_cuped.group == \"A\"][TARGET_METRIC].mean():.2f}, '\n",
        "      f'Without CUPED B: {shop_metrics_all_cuped[shop_metrics_all_cuped.group == \"B\"][TARGET_METRIC].mean():.2f}')\n",
        "print(f'CUPED A variance: {shop_metrics_all_cuped[shop_metrics_all_cuped.group == \"A\"][f\"{TARGET_METRIC}_cuped\"].var():.2f}, '\n",
        "      f'CUPED B variance: {shop_metrics_all_cuped[shop_metrics_all_cuped.group == \"B\"][f\"{TARGET_METRIC}_cuped\"].var():.2f}')"
      ],
      "metadata": {
        "colab": {
          "base_uri": "https://localhost:8080/"
        },
        "id": "ot9PQH1Gg7lx",
        "outputId": "528df20f-c230-4d4d-a2a8-d2fa100cf2ce"
      },
      "execution_count": null,
      "outputs": [
        {
          "output_type": "stream",
          "name": "stderr",
          "text": [
            "<ipython-input-7-eb3fe33f015a>:12: FutureWarning: Setting an item of incompatible dtype is deprecated and will raise in a future error of pandas. Value '[0.1327605 0.1327605 0.1327605 ... 0.1327605 0.1327605 0.1327605]' has dtype incompatible with int64, please explicitly cast to a compatible dtype first.\n",
            "  df.update(df_filled)\n"
          ]
        },
        {
          "output_type": "stream",
          "name": "stdout",
          "text": [
            "Сравнение до и после CUPED:\n",
            "CUPED A: 0.14, CUPED B: 0.14\n",
            "Without CUPED A: 0.14, Without CUPED B: 0.14\n",
            "CUPED A variance: 0.02, CUPED B variance: 0.02\n"
          ]
        }
      ]
    },
    {
      "cell_type": "code",
      "source": [
        "# CUPED Implementation\n",
        "def cuped_transform(df, metrics):\n",
        "    \"\"\"\n",
        "    Реализует CUPED-преобразование для заданных метрик\n",
        "\n",
        "    Parameters:\n",
        "    -----------\n",
        "    df : pd.DataFrame\n",
        "        Датафрейм с метриками\n",
        "    metrics : list\n",
        "        Список метрик для преобразования\n",
        "\n",
        "    Returns:\n",
        "    --------\n",
        "    pd.DataFrame\n",
        "        Датафрейм с добавленными CUPED-метриками\n",
        "    \"\"\"\n",
        "    new_columns = [f'{m}_cuped' for m in metrics]\n",
        "    df[new_columns] = pd.DataFrame([[0] * len(new_columns)], index=df.index)\n",
        "    df_mini = df.fillna(0)\n",
        "\n",
        "    for metric in metrics:\n",
        "        covariate_column = f'{metric}_covariate'\n",
        "        cuped_column = f'{metric}_cuped'\n",
        "        mean_covariate = df_mini[covariate_column].mean()\n",
        "        theta = df_mini[metric].cov(df_mini[covariate_column]) / df_mini[covariate_column].var()\n",
        "        df_mini[cuped_column] = df_mini[metric] - (df_mini[covariate_column] - mean_covariate) * theta\n",
        "\n",
        "    return df_mini.drop_duplicates()"
      ],
      "metadata": {
        "id": "1eWAhxpqsLSu"
      },
      "execution_count": null,
      "outputs": []
    },
    {
      "cell_type": "code",
      "source": [
        "# Подготовка данных для обычной метрики\n",
        "# Объединение новых и старых данных\n",
        "shop_metrics_all = pd.merge(\n",
        "    shop_metrics_new,\n",
        "    shop_metrics_old[['user_id', TARGET_METRIC]],\n",
        "    on=['user_id'],\n",
        "    how='left'\n",
        ")\n",
        "shop_metrics_all = shop_metrics_all.rename(columns={\n",
        "    f'{TARGET_METRIC}_x': TARGET_METRIC,\n",
        "    f'{TARGET_METRIC}_y': f'{TARGET_METRIC}_covariate'\n",
        "})\n",
        "\n",
        "# Применение CUPED\n",
        "shop_metrics_all_cuped = cuped_transform(shop_metrics_all.copy(), [TARGET_METRIC])"
      ],
      "metadata": {
        "id": "Rg93onh9sPpG"
      },
      "execution_count": null,
      "outputs": []
    },
    {
      "cell_type": "code",
      "source": [
        "# Анализ результатов CUPED на обычной метрике\n",
        "def print_metrics_comparison(df, metric):\n",
        "    \"\"\"Выводит сравнение метрик до и после CUPED\"\"\"\n",
        "    cuped_metric = f'{metric}_cuped'\n",
        "\n",
        "    for group in ['A', 'B']:\n",
        "        group_data = df[df.group == group]\n",
        "        print(f'\\nГруппа {group}:')\n",
        "        print(f'Среднее (CUPED): {group_data[cuped_metric].mean():.4f}')\n",
        "        print(f'Среднее (исходное): {group_data[metric].mean():.4f}')\n",
        "        print(f'Дисперсия (CUPED): {group_data[cuped_metric].var():.4f}')\n",
        "        print(f'Дисперсия (исходное): {group_data[metric].var():.4f}')\n",
        "\n",
        "print_metrics_comparison(shop_metrics_all_cuped, TARGET_METRIC)"
      ],
      "metadata": {
        "colab": {
          "base_uri": "https://localhost:8080/"
        },
        "id": "hs_kLEwzsTut",
        "outputId": "e7fac230-e48b-43cd-8ca7-d0d3a30de4f2"
      },
      "execution_count": null,
      "outputs": [
        {
          "output_type": "stream",
          "name": "stdout",
          "text": [
            "\n",
            "Группа A:\n",
            "Среднее (CUPED): 0.1364\n",
            "Среднее (исходное): 0.1350\n",
            "Дисперсия (CUPED): 0.0182\n",
            "Дисперсия (исходное): 0.3806\n",
            "\n",
            "Группа B:\n",
            "Среднее (CUPED): 0.1372\n",
            "Среднее (исходное): 0.1386\n",
            "Дисперсия (CUPED): 0.0215\n",
            "Дисперсия (исходное): 0.4247\n"
          ]
        }
      ]
    },
    {
      "cell_type": "code",
      "source": [
        "# Оценка мощности и корректности для CUPED\n",
        "def evaluate_cuped_performance(shop, shop_metrics_old, target_metric, n_iterations=100):\n",
        "    \"\"\"Оценивает мощность и корректность CUPED\"\"\"\n",
        "    correctness = []\n",
        "    power = []\n",
        "\n",
        "    for _ in tqdm(range(n_iterations)):\n",
        "        # Подготовка данных\n",
        "        new_group = groups_splitter(shop.copy(), user_salt=salt_generator())\n",
        "        new_df = pd.merge(shop, new_group, how=\"left\", on=['user_id']).drop_duplicates()\n",
        "        all_df = pd.merge(new_df,\n",
        "                         shop_metrics_old[['user_id', target_metric]],\n",
        "                         on=['user_id'],\n",
        "                         how='left')\n",
        "\n",
        "        # Переименование колонок\n",
        "        all_df = all_df.rename(columns={\n",
        "            f'{target_metric}_x': target_metric,\n",
        "            f'{target_metric}_y': f'{target_metric}_covariate'\n",
        "        })\n",
        "\n",
        "        # CUPED-преобразование\n",
        "        cuped_df = cuped_transform(all_df, [target_metric])\n",
        "\n",
        "        # Расчёт статистик\n",
        "        vec_a = cuped_df[cuped_df['group'] == 'A'][f'{target_metric}_cuped']\n",
        "        vec_b = cuped_df[cuped_df['group'] == 'B'][f'{target_metric}_cuped']\n",
        "        vec_b_effect = vec_b * 1.05\n",
        "\n",
        "        # T-тесты\n",
        "        p_cor = stats.ttest_ind(vec_a, vec_b)[1]\n",
        "        p_power = stats.ttest_ind(vec_a, vec_b_effect)[1]\n",
        "\n",
        "        correctness.append(p_cor)\n",
        "        power.append(p_power)\n",
        "\n",
        "    return np.array(correctness), np.array(power)\n",
        "\n",
        "# Запуск оценки\n",
        "shop = shop_metrics_new.drop(columns=['group'])\n",
        "correctness, power = evaluate_cuped_performance(shop, shop_metrics_old, TARGET_METRIC)\n",
        "\n",
        "# Визуализация результатов\n",
        "plt.figure(figsize=(10, 6))\n",
        "sns.histplot(data=correctness, bins=10, color='brown', kde=True)\n",
        "plt.title('Распределение p-value для CUPED')\n",
        "plt.show()\n",
        "\n",
        "# Вывод результатов\n",
        "power_rate = (power < 0.05).mean() * 100\n",
        "correctness_rate = (1 - (correctness < 0.05).mean()) * 100\n",
        "print(f'Мощность: {power_rate:.2f}%')\n",
        "print(f'Корректность: {correctness_rate:.2f}%')"
      ],
      "metadata": {
        "colab": {
          "base_uri": "https://localhost:8080/",
          "height": 597
        },
        "id": "D1cZL5S7sW6x",
        "outputId": "e2c142f0-3e0c-43e1-919b-b1ce26d17579"
      },
      "execution_count": null,
      "outputs": [
        {
          "output_type": "stream",
          "name": "stderr",
          "text": [
            "100%|██████████| 100/100 [01:43<00:00,  1.04s/it]\n"
          ]
        },
        {
          "output_type": "display_data",
          "data": {
            "text/plain": [
              "<Figure size 1000x600 with 1 Axes>"
            ],
            "image/png": "[encoded data removed]"
          },
          "metadata": {}
        },
        {
          "output_type": "stream",
          "name": "stdout",
          "text": [
            "Мощность: 100.00%\n",
            "Корректность: 95.00%\n"
          ]
        }
      ]
    },
    {
      "cell_type": "code",
      "source": [
        "# Логарифмическое преобразование\n",
        "TARGET_METRIC_LN = f\"{TARGET_METRIC}_ln\"\n",
        "\n",
        "# Применяем логарифмическое преобразование\n",
        "for df in [shop_metrics_new, shop_metrics_old, shop]:\n",
        "    df[TARGET_METRIC_LN] = np.log(df[TARGET_METRIC] + 1)\n",
        "\n",
        "# Повторяем CUPED для логарифмированной метрики\n",
        "shop_metrics_all_ln = pd.merge(\n",
        "    shop_metrics_new,\n",
        "    shop_metrics_old[['user_id', TARGET_METRIC_LN]],\n",
        "    on=['user_id'],\n",
        "    how='left'\n",
        ")\n",
        "shop_metrics_all_ln = shop_metrics_all_ln.rename(columns={\n",
        "    f'{TARGET_METRIC_LN}_x': TARGET_METRIC_LN,\n",
        "    f'{TARGET_METRIC_LN}_y': f'{TARGET_METRIC_LN}_covariate'\n",
        "})\n",
        "\n",
        "shop_metrics_all_ln_cuped = cuped_transform(shop_metrics_all_ln.copy(), [TARGET_METRIC_LN])"
      ],
      "metadata": {
        "id": "wsvtq-hjsbOO"
      },
      "execution_count": null,
      "outputs": []
    },
    {
      "cell_type": "code",
      "source": [
        "# Ранговое преобразование\n",
        "def rank_transformation(df_a, df_b, metric):\n",
        "    \"\"\"\n",
        "    Выполняет ранговое преобразование метрики\n",
        "\n",
        "    Parameters:\n",
        "    -----------\n",
        "    df_a, df_b : pd.DataFrame\n",
        "        Датафреймы групп A и B\n",
        "    metric : str\n",
        "        Название метрики для преобразования\n",
        "\n",
        "    Returns:\n",
        "    --------\n",
        "    pd.DataFrame\n",
        "        Объединенный датафрейм с ранговым преобразованием\n",
        "    \"\"\"\n",
        "    df = pd.concat([df_a, df_b], axis=0)\n",
        "    df['rank'] = df[metric].rank()\n",
        "    return df\n",
        "\n",
        "# Применяем CUPED + ранговое преобразование\n",
        "ranked_df = rank_transformation(\n",
        "    shop_metrics_all_cuped[shop_metrics_all_cuped.group == 'A'],\n",
        "    shop_metrics_all_cuped[shop_metrics_all_cuped.group == 'B'],\n",
        "    f'{TARGET_METRIC}_cuped'\n",
        ")"
      ],
      "metadata": {
        "id": "g6OTDaU-sfd2"
      },
      "execution_count": null,
      "outputs": []
    },
    {
      "cell_type": "code",
      "source": [
        "# Применение CUPED к обычной метрике\n",
        "shop_metrics_all_cuped = cuped_transform(shop_metrics_all.copy(), [TARGET_METRIC])\n",
        "\n",
        "# Сравнение до и после CUPED\n",
        "print(\"\\nCUPED для обычной метрики cart_added_cnt:\")\n",
        "print(f'Среднее (A): {shop_metrics_all_cuped[shop_metrics_all_cuped.group == \"A\"][f\"{TARGET_METRIC}_cuped\"].mean():.4f}')\n",
        "print(f'Среднее (B): {shop_metrics_all_cuped[shop_metrics_all_cuped.group == \"B\"][f\"{TARGET_METRIC}_cuped\"].mean():.4f}')\n",
        "print(f'Дисперсия (A): {shop_metrics_all_cuped[shop_metrics_all_cuped.group == \"A\"][f\"{TARGET_METRIC}_cuped\"].var():.4f}')\n",
        "print(f'Дисперсия (B): {shop_metrics_all_cuped[shop_metrics_all_cuped.group == \"B\"][f\"{TARGET_METRIC}_cuped\"].var():.4f}')\n",
        "\n",
        "# t-тест на CUPED-метрике\n",
        "vec_a_cuped = shop_metrics_all_cuped[shop_metrics_all_cuped.group == 'A'][f'{TARGET_METRIC}_cuped']\n",
        "vec_b_cuped = shop_metrics_all_cuped[shop_metrics_all_cuped.group == 'B'][f'{TARGET_METRIC}_cuped']\n",
        "t_stat_cuped, p_value_cuped = stats.ttest_ind(vec_a_cuped, vec_b_cuped)\n",
        "\n",
        "print(f'\\nРезультаты t-теста на CUPED-метрике: t-statistic={t_stat_cuped:.4f}, p-value={p_value_cuped:.4f}')"
      ],
      "metadata": {
        "colab": {
          "base_uri": "https://localhost:8080/"
        },
        "id": "ZHqUhGrhWrRV",
        "outputId": "4f37e73f-17fb-440c-8c17-561d6f042997"
      },
      "execution_count": null,
      "outputs": [
        {
          "output_type": "stream",
          "name": "stdout",
          "text": [
            "\n",
            "CUPED для обычной метрики cart_added_cnt:\n",
            "Среднее (A): 0.1364\n",
            "Среднее (B): 0.1372\n",
            "Дисперсия (A): 0.0182\n",
            "Дисперсия (B): 0.0215\n",
            "\n",
            "Результаты t-теста на CUPED-метрике: t-statistic=-1.3856, p-value=0.1659\n"
          ]
        }
      ]
    },
    {
      "cell_type": "code",
      "source": [
        "# Применение CUPED к логарифмированной метрике\n",
        "shop_metrics_all_ln_cuped = cuped_transform(shop_metrics_all_ln.copy(), [TARGET_METRIC_LN])\n",
        "\n",
        "# Сравнение до и после CUPED\n",
        "print(\"\\nCUPED для логарифмированной метрики cart_added_cnt_ln:\")\n",
        "print(f'Среднее (A): {shop_metrics_all_ln_cuped[shop_metrics_all_ln_cuped.group == \"A\"][f\"{TARGET_METRIC_LN}_cuped\"].mean():.4f}')\n",
        "print(f'Среднее (B): {shop_metrics_all_ln_cuped[shop_metrics_all_ln_cuped.group == \"B\"][f\"{TARGET_METRIC_LN}_cuped\"].mean():.4f}')\n",
        "print(f'Дисперсия (A): {shop_metrics_all_ln_cuped[shop_metrics_all_ln_cuped.group == \"A\"][f\"{TARGET_METRIC_LN}_cuped\"].var():.4f}')\n",
        "print(f'Дисперсия (B): {shop_metrics_all_ln_cuped[shop_metrics_all_ln_cuped.group == \"B\"][f\"{TARGET_METRIC_LN}_cuped\"].var():.4f}')\n",
        "\n",
        "# t-тест на CUPED-метрике\n",
        "vec_a_ln_cuped = shop_metrics_all_ln_cuped[shop_metrics_all_ln_cuped.group == 'A'][f'{TARGET_METRIC_LN}_cuped']\n",
        "vec_b_ln_cuped = shop_metrics_all_ln_cuped[shop_metrics_all_ln_cuped.group == 'B'][f'{TARGET_METRIC_LN}_cuped']\n",
        "t_stat_ln_cuped, p_value_ln_cuped = stats.ttest_ind(vec_a_ln_cuped, vec_b_ln_cuped)\n",
        "\n",
        "print(f'\\nРезультаты t-теста на логарифмированной CUPED-метрике: t-statistic={t_stat_ln_cuped:.4f}, p-value={p_value_ln_cuped:.4f}')"
      ],
      "metadata": {
        "colab": {
          "base_uri": "https://localhost:8080/"
        },
        "id": "czVeW__NWwGB",
        "outputId": "1788b673-6acd-4595-bb12-2c4f7e91e5a0"
      },
      "execution_count": null,
      "outputs": [
        {
          "output_type": "stream",
          "name": "stdout",
          "text": [
            "\n",
            "CUPED для логарифмированной метрики cart_added_cnt_ln:\n",
            "Среднее (A): 0.0803\n",
            "Среднее (B): 0.0807\n",
            "Дисперсия (A): 0.0021\n",
            "Дисперсия (B): 0.0018\n",
            "\n",
            "Результаты t-теста на логарифмированной CUPED-метрике: t-statistic=-2.0494, p-value=0.0404\n"
          ]
        }
      ]
    },
    {
      "cell_type": "code",
      "source": [
        "# Использование исходной метрики как ковариаты\n",
        "shop_metrics_ranked['cart_added_cnt_covariate'] = shop_metrics_new[TARGET_METRIC]\n",
        "\n",
        "# Применение CUPED\n",
        "shop_metrics_ranked_cuped = cuped_transform(shop_metrics_ranked.copy(), [f'{TARGET_METRIC}_ranked'])\n",
        "\n",
        "# Сравнение до и после CUPED\n",
        "print(\"\\nCUPED для ранговой метрики cart_added_cnt:\")\n",
        "print(f'Среднее (A): {shop_metrics_ranked_cuped[shop_metrics_ranked_cuped.group == \"A\"][f\"{TARGET_METRIC}_ranked_cuped\"].mean():.4f}')\n",
        "print(f'Среднее (B): {shop_metrics_ranked_cuped[shop_metrics_ranked_cuped.group == \"B\"][f\"{TARGET_METRIC}_ranked_cuped\"].mean():.4f}')\n",
        "print(f'Дисперсия (A): {shop_metrics_ranked_cuped[shop_metrics_ranked_cuped.group == \"A\"][f\"{TARGET_METRIC}_ranked_cuped\"].var():.4f}')\n",
        "print(f'Дисперсия (B): {shop_metrics_ranked_cuped[shop_metrics_ranked_cuped.group == \"B\"][f\"{TARGET_METRIC}_ranked_cuped\"].var():.4f}')\n",
        "\n",
        "# t-тест на CUPED-метрике\n",
        "vec_a_ranked_cuped = shop_metrics_ranked_cuped[shop_metrics_ranked_cuped.group == 'A'][f'{TARGET_METRIC}_ranked_cuped']\n",
        "vec_b_ranked_cuped = shop_metrics_ranked_cuped[shop_metrics_ranked_cuped.group == 'B'][f'{TARGET_METRIC}_ranked_cuped']\n",
        "t_stat_ranked_cuped, p_value_ranked_cuped = stats.ttest_ind(vec_a_ranked_cuped, vec_b_ranked_cuped)\n",
        "\n",
        "print(f'\\nРезультаты t-теста на ранговой CUPED-метрике: t-statistic={t_stat_ranked_cuped:.4f}, p-value={p_value_ranked_cuped:.4f}')"
      ],
      "metadata": {
        "colab": {
          "base_uri": "https://localhost:8080/"
        },
        "id": "52SrlhjcWzgA",
        "outputId": "0ccae3a1-a4c8-4d6e-a7ba-d55ce4922e76"
      },
      "execution_count": null,
      "outputs": [
        {
          "output_type": "stream",
          "name": "stdout",
          "text": [
            "\n",
            "CUPED для ранговой метрики cart_added_cnt:\n",
            "Среднее (A): 111261.0000\n",
            "Среднее (B): 111261.0000\n",
            "Дисперсия (A): 0.0000\n",
            "Дисперсия (B): 0.0000\n",
            "\n",
            "Результаты t-теста на ранговой CUPED-метрике: t-statistic=nan, p-value=nan\n"
          ]
        },
        {
          "output_type": "stream",
          "name": "stderr",
          "text": [
            "/usr/local/lib/python3.10/dist-packages/scipy/stats/_axis_nan_policy.py:531: RuntimeWarning: Precision loss occurred in moment calculation due to catastrophic cancellation. This occurs when the data are nearly identical. Results may be unreliable.\n",
            "  res = hypotest_fun_out(*samples, **kwds)\n"
          ]
        }
      ]
    },
    {
      "cell_type": "markdown",
      "source": [
        "CUPED-трансформация не работает корректно, если метрика и ковариата совпадают. Для применения CUPED к ранговой метрике необходимо использовать независимую ковариату, не связанную с текущей метрикой. В данном случае CUPED на ранговых данных следует исключить из анализа, так как ранжирование уже снижает дисперсию и устраняет влияние выбросов."
      ],
      "metadata": {
        "id": "hUTjgfwlczb8"
      }
    },
    {
      "cell_type": "markdown",
      "source": [
        "# **3. Реализовать разбивку на бакеты, оценить t-критерием и сравнить с результатом без бакетирования:**"
      ],
      "metadata": {
        "id": "DP9pRlI97rPx"
      }
    },
    {
      "cell_type": "code",
      "source": [
        "def bucketize_data(df, metric, num_buckets=10):\n",
        "    \"\"\"Разбивает данные на бакеты с устранением дублирующихся границ.\"\"\"\n",
        "    df['bucket'] = pd.qcut(df[metric], num_buckets, labels=False, duplicates=\"drop\")\n",
        "    return df\n",
        "\n",
        "def analyze_buckets(df, metric):\n",
        "    \"\"\"Анализирует данные внутри бакетов и применяет t-критерий.\"\"\"\n",
        "    results = []\n",
        "    for bucket in df['bucket'].unique():\n",
        "        bucket_data = df[df['bucket'] == bucket]\n",
        "        group_a = bucket_data[bucket_data['group'] == 'A'][metric]\n",
        "        group_b = bucket_data[bucket_data['group'] == 'B'][metric]\n",
        "        t_statistic, p_value = stats.ttest_ind(group_a, group_b)\n",
        "        results.append({'bucket': bucket, 't-statistic': t_statistic, 'p-value': p_value})\n",
        "    return pd.DataFrame(results)\n",
        "\n",
        "# Применяем разбивку на бакеты к логнормальному распределению\n",
        "np.random.seed(42)  # для воспроизводимости\n",
        "lognormal_data = pd.DataFrame({'value': np.random.lognormal(mean=0, sigma=1, size=1000)})\n",
        "lognormal_data['group'] = np.random.choice(['A', 'B'], size=1000)\n",
        "lognormal_data = bucketize_data(lognormal_data, 'value')\n",
        "lognormal_bucket_results = analyze_buckets(lognormal_data, 'value')\n",
        "print(\"Результаты для логнормального распределения:\")\n",
        "print(lognormal_bucket_results)\n",
        "\n",
        "# Применяем разбивку на бакеты к метрике cart_added_cnt\n",
        "shop_metrics_new_bucketed = bucketize_data(shop_metrics_new, TARGET_METRIC)\n",
        "cart_added_bucket_results = analyze_buckets(shop_metrics_new_bucketed, TARGET_METRIC)\n",
        "print(\"\\nРезультаты для cart_added_cnt:\")\n",
        "print(cart_added_bucket_results)\n",
        "\n",
        "# Сравнение с результатами без бакетирования\n",
        "t_statistic, p_value = stats.ttest_ind(\n",
        "    shop_metrics_new[shop_metrics_new['group'] == 'A'][TARGET_METRIC],\n",
        "    shop_metrics_new[shop_metrics_new['group'] == 'B'][TARGET_METRIC]\n",
        ")\n",
        "print(f\"\\nРезультаты t-критерия без бакетирования: t-statistic={t_statistic:.4f}, p-value={p_value:.4f}\")"
      ],
      "metadata": {
        "id": "csOwdzpJs0nD",
        "colab": {
          "base_uri": "https://localhost:8080/"
        },
        "outputId": "fdda2d4b-c978-4315-8e02-4b5000c2a456"
      },
      "execution_count": null,
      "outputs": [
        {
          "output_type": "stream",
          "name": "stdout",
          "text": [
            "Результаты для логнормального распределения:\n",
            "   bucket  t-statistic   p-value\n",
            "0       6     0.322004  0.748135\n",
            "1       4     0.534317  0.594332\n",
            "2       7     0.614035  0.540615\n",
            "3       9    -0.150741  0.880490\n",
            "4       3     0.559642  0.577000\n",
            "5       5    -0.170540  0.864937\n",
            "6       0     1.536614  0.127610\n",
            "7       2    -0.884119  0.378796\n",
            "8       1     2.172894  0.032199\n",
            "9       8    -1.193082  0.235718\n",
            "\n",
            "Результаты для cart_added_cnt:\n",
            "   bucket  t-statistic   p-value\n",
            "0       0    -0.697735  0.485344\n",
            "1       1    -0.134301  0.893171\n",
            "\n",
            "Результаты t-критерия без бакетирования: t-statistic=-1.3048, p-value=0.1920\n"
          ]
        }
      ]
    },
    {
      "cell_type": "code",
      "source": [
        "# Функция для разбиения на бакеты\n",
        "def bucketize_data(df, metric, num_buckets=10):\n",
        "    \"\"\"Разбивает данные на бакеты.\"\"\"\n",
        "    df['bucket'] = pd.qcut(df[metric], num_buckets, labels=False, duplicates='drop')\n",
        "    return df\n",
        "\n",
        "# Применение бакетирования\n",
        "shop_metrics_new_bucketed = bucketize_data(shop_metrics_new.copy(), TARGET_METRIC)\n",
        "\n",
        "# Анализ дисперсии в бакетах\n",
        "bucket_variances = shop_metrics_new_bucketed.groupby('bucket')[TARGET_METRIC].var()\n",
        "print(\"\\nДисперсия в бакетах:\")\n",
        "print(bucket_variances)\n",
        "\n",
        "# Сравнение дисперсии между группами в каждом бакете\n",
        "for bucket in shop_metrics_new_bucketed['bucket'].unique():\n",
        "    bucket_data = shop_metrics_new_bucketed[shop_metrics_new_bucketed['bucket'] == bucket]\n",
        "    group_a_var = bucket_data[bucket_data['group'] == 'A'][TARGET_METRIC].var()\n",
        "    group_b_var = bucket_data[bucket_data['group'] == 'B'][TARGET_METRIC].var()\n",
        "    print(f\"\\nБакет {bucket}: Дисперсия группы A = {group_a_var:.4f}, группы B = {group_b_var:.4f}\")\n"
      ],
      "metadata": {
        "colab": {
          "base_uri": "https://localhost:8080/"
        },
        "id": "OZkt1Lqteobc",
        "outputId": "22c486fd-47aa-4fd3-a9f1-6a6706f9e6e9"
      },
      "execution_count": null,
      "outputs": [
        {
          "output_type": "stream",
          "name": "stdout",
          "text": [
            "\n",
            "Дисперсия в бакетах:\n",
            "bucket\n",
            "0    0.077632\n",
            "1    9.985958\n",
            "Name: cart_added_cnt, dtype: float64\n",
            "\n",
            "Бакет 0: Дисперсия группы A = 0.0773, группы B = 0.0780\n",
            "\n",
            "Бакет 1: Дисперсия группы A = 9.2019, группы B = 10.7395\n"
          ]
        }
      ]
    },
    {
      "cell_type": "code",
      "source": [
        "# Проведение t-теста в бакетах\n",
        "def analyze_buckets_t_test(df, metric):\n",
        "    results = []\n",
        "    for bucket in df['bucket'].unique():\n",
        "        bucket_data = df[df['bucket'] == bucket]\n",
        "        vec_a = bucket_data[bucket_data['group'] == 'A'][metric]\n",
        "        vec_b = bucket_data[bucket_data['group'] == 'B'][metric]\n",
        "        t_stat, p_value = stats.ttest_ind(vec_a, vec_b)\n",
        "        results.append({'bucket': bucket, 't-statistic': t_stat, 'p-value': p_value})\n",
        "    return pd.DataFrame(results)\n",
        "\n",
        "# Анализ t-теста в бакетах\n",
        "bucket_t_test_results = analyze_buckets_t_test(shop_metrics_new_bucketed, TARGET_METRIC)\n",
        "print(\"\\nРезультаты t-теста по бакетам:\")\n",
        "print(bucket_t_test_results)\n",
        "\n",
        "# Сравнение с t-тестом без бакетирования\n",
        "t_stat_overall, p_value_overall = stats.ttest_ind(\n",
        "    shop_metrics_new[shop_metrics_new['group'] == 'A'][TARGET_METRIC],\n",
        "    shop_metrics_new[shop_metrics_new['group'] == 'B'][TARGET_METRIC]\n",
        ")\n",
        "print(f\"\\nРезультаты t-теста без бакетирования: t-statistic={t_stat_overall:.4f}, p-value={p_value_overall:.4f}\")"
      ],
      "metadata": {
        "colab": {
          "base_uri": "https://localhost:8080/"
        },
        "id": "2OuBXETeez7c",
        "outputId": "32200cd0-526a-4840-ac1e-9bd2fc5189f5"
      },
      "execution_count": null,
      "outputs": [
        {
          "output_type": "stream",
          "name": "stdout",
          "text": [
            "\n",
            "Результаты t-теста по бакетам:\n",
            "   bucket  t-statistic   p-value\n",
            "0       0    -0.697735  0.485344\n",
            "1       1    -0.134301  0.893171\n",
            "\n",
            "Результаты t-теста без бакетирования: t-statistic=-1.3048, p-value=0.1920\n"
          ]
        }
      ]
    },
    {
      "cell_type": "markdown",
      "source": [
        "## Выводы\n",
        "1. **Уменьшение дисперсии:**\n",
        "   - Бакетирование позволяет уменьшить разброс данных внутри каждого бакета, особенно для меньших значений метрики.\n",
        "   - Это делает анализ более точным, так как данные становятся более однородными в пределах бакетов.\n",
        "\n",
        "2. **Влияние на t-критерий:**\n",
        "   - t-тест в пределах бакетов показывает более низкие дисперсии, но различия между группами A и B остаются статистически незначимыми.\n",
        "   - Без бакетирования разброс данных выше, что усложняет выявление различий между группами.\n",
        "\n",
        "3. **Сравнение методов:**\n",
        "   - Бакетирование улучшает качество анализа за счёт уменьшения влияния экстремальных значений.\n",
        "   - Однако в данном случае ни метод бакетирования, ни общий t-тест не выявили значимых различий (\\( p \\)-value > 0.05).\n",
        "\n",
        "Таким образом, бакетирование полезно для уменьшения дисперсии, но не всегда приводит к выявлению статистически значимых различий, если их нет в данных изначально."
      ],
      "metadata": {
        "id": "LQK7Tqxig-8V"
      }
    },
    {
      "cell_type": "markdown",
      "source": [
        "# **4. Реализовать постстратификацию на данных shop_metrics_old для метрики cart_added_cnt:**"
      ],
      "metadata": {
        "id": "WtcFOx1a9Nlu"
      }
    },
    {
      "cell_type": "markdown",
      "source": [
        "**На сочетании пола и возраста (возраст разбить на подгруппы: 18-24, 25-45, 46-60, 61-75, 76+) (5 баллов)**"
      ],
      "metadata": {
        "id": "CqNuIBkM9cGV"
      }
    },
    {
      "cell_type": "code",
      "source": [
        "\n",
        "# Merge dataframes\n",
        "merged_df = pd.merge(shop_metrics_old, shop_users_info, on='user_id', how='left')\n",
        "\n",
        "# Define age groups\n",
        "bins = [18, 24, 45, 60, 75, np.inf]\n",
        "labels = ['18-24', '25-45', '46-60', '61-75', '76+']\n",
        "merged_df['age_group'] = pd.cut(merged_df['user_age'], bins=bins, labels=labels, right=False)\n",
        "\n",
        "# Calculate overall metrics\n",
        "overall_mean_a = merged_df[merged_df['group'] == 'A']['cart_added_cnt'].mean()\n",
        "overall_mean_b = merged_df[merged_df['group'] == 'B']['cart_added_cnt'].mean()\n",
        "overall_diff = overall_mean_b - overall_mean_a\n",
        "\n",
        "print(f\"Overall mean (A): {overall_mean_a:.4f}\")\n",
        "print(f\"Overall mean (B): {overall_mean_b:.4f}\")\n",
        "print(f\"Overall difference: {overall_diff:.4f}\")\n",
        "\n",
        "# Post-stratification\n",
        "post_strat_diffs = []\n",
        "for gender in merged_df['user_sex'].unique():\n",
        "    for age_group in merged_df['age_group'].unique():\n",
        "        group_data = merged_df[(merged_df['user_sex'] == gender) & (merged_df['age_group'] == age_group)]\n",
        "        if not group_data.empty:\n",
        "          mean_a = group_data[group_data['group'] == 'A']['cart_added_cnt'].mean()\n",
        "          mean_b = group_data[group_data['group'] == 'B']['cart_added_cnt'].mean()\n",
        "          diff = mean_b - mean_a\n",
        "          post_strat_diffs.append(diff)\n",
        "\n",
        "          print(f\"Gender: {gender}, Age group: {age_group}, Difference: {diff:.4f}\")\n",
        "\n",
        "# Calculate post-stratified metrics\n",
        "post_strat_mean_diff = np.mean(post_strat_diffs)\n",
        "print(f\"\\nPost-stratified mean difference: {post_strat_mean_diff:.4f}\")"
      ],
      "metadata": {
        "id": "aKuPPDTN9pdi",
        "colab": {
          "base_uri": "https://localhost:8080/"
        },
        "outputId": "9c5534e4-eedc-4c78-8684-03ebf39b9904"
      },
      "execution_count": null,
      "outputs": [
        {
          "output_type": "stream",
          "name": "stdout",
          "text": [
            "Overall mean (A): 0.1202\n",
            "Overall mean (B): 0.1216\n",
            "Overall difference: 0.0014\n",
            "Gender: f, Age group: 46-60, Difference: 0.0047\n",
            "Gender: f, Age group: 18-24, Difference: 0.0098\n",
            "Gender: f, Age group: 25-45, Difference: 0.0032\n",
            "Gender: f, Age group: 76+, Difference: 0.0149\n",
            "Gender: f, Age group: 61-75, Difference: -0.0031\n",
            "Gender: m, Age group: 46-60, Difference: 0.0028\n",
            "Gender: m, Age group: 18-24, Difference: -0.0018\n",
            "Gender: m, Age group: 25-45, Difference: -0.0023\n",
            "Gender: m, Age group: 76+, Difference: -0.0005\n",
            "Gender: m, Age group: 61-75, Difference: -0.0019\n",
            "\n",
            "Post-stratified mean difference: 0.0026\n"
          ]
        }
      ]
    },
    {
      "cell_type": "markdown",
      "source": [
        "**Проверить мощность и корректность t-критерия для постстратифицированного случая (5 баллов)**"
      ],
      "metadata": {
        "id": "h1swI0jV9SbW"
      }
    },
    {
      "cell_type": "code",
      "source": [
        "# Проверка мощности и корректности для постстратификации\n",
        "def evaluate_poststrat_power_correctness(df, metric, n_iterations=100, effect_size=0.05):\n",
        "    \"\"\"\n",
        "    Оценивает мощность и корректность для постстратификации\n",
        "\n",
        "    Parameters:\n",
        "    -----------\n",
        "    df : pd.DataFrame\n",
        "        Датафрейм с группами\n",
        "    metric : str\n",
        "        Название целевой метрики\n",
        "    n_iterations : int\n",
        "        Количество итераций для оценки\n",
        "    effect_size : float\n",
        "        Размер эффекта для добавления к группе B\n",
        "\n",
        "    Returns:\n",
        "    --------\n",
        "    tuple\n",
        "        Мощность и корректность\n",
        "    \"\"\"\n",
        "    correctness = []\n",
        "    power = []\n",
        "\n",
        "    for _ in tqdm(range(n_iterations)):  # Итерации для оценки мощности и корректности\n",
        "        vec_a = df[df['group'] == 'A'][metric]\n",
        "        vec_b = df[df['group'] == 'B'][metric]\n",
        "\n",
        "        # Проверка дисперсии и средних до добавления эффекта\n",
        "        if _ == 0:  # Печатаем только для первой итерации\n",
        "            print(\"Среднее группы A:\", vec_a.mean())\n",
        "            print(\"Среднее группы B:\", vec_b.mean())\n",
        "            print(\"Дисперсия группы A:\", vec_a.var())\n",
        "            print(\"Дисперсия группы B:\", vec_b.var())\n",
        "\n",
        "        # Добавляем эффект к группе B\n",
        "        vec_b_effect = vec_b + vec_b.mean() * effect_size\n",
        "\n",
        "        # t-тесты\n",
        "        p_correct = stats.ttest_ind(vec_a, vec_b)[1]  # Без эффекта\n",
        "        p_power = stats.ttest_ind(vec_a, vec_b_effect)[1]  # С эффектом\n",
        "\n",
        "        correctness.append(p_correct)\n",
        "        power.append(p_power)\n",
        "\n",
        "    power_rate = (np.array(power) < 0.05).mean() * 100\n",
        "    correctness_rate = (1 - (np.array(correctness) < 0.05).mean()) * 100\n",
        "\n",
        "    return power_rate, correctness_rate\n",
        "\n",
        "\n",
        "# Оценка мощности и корректности на постстратифицированных данных\n",
        "poststrat_power, poststrat_correctness = evaluate_poststrat_power_correctness(\n",
        "    merged_df,\n",
        "    'cart_added_cnt',\n",
        "    n_iterations=100,\n",
        "    effect_size=0.05\n",
        ")\n",
        "\n",
        "print(f\"\\nМощность: {poststrat_power:.2f}%\")\n",
        "print(f\"Корректность: {poststrat_correctness:.2f}%\")"
      ],
      "metadata": {
        "colab": {
          "base_uri": "https://localhost:8080/"
        },
        "id": "zkGUacajiS15",
        "outputId": "d068ee3f-69b7-43a9-9da0-f5e439946dbf"
      },
      "execution_count": null,
      "outputs": [
        {
          "output_type": "stream",
          "name": "stderr",
          "text": [
            "  1%|          | 1/100 [00:00<00:39,  2.53it/s]"
          ]
        },
        {
          "output_type": "stream",
          "name": "stdout",
          "text": [
            "Среднее группы A: 0.1202000629499941\n",
            "Среднее группы B: 0.12155144034943767\n",
            "Дисперсия группы A: 0.3325703408724685\n",
            "Дисперсия группы B: 0.35851900453531865\n"
          ]
        },
        {
          "output_type": "stream",
          "name": "stderr",
          "text": [
            "100%|██████████| 100/100 [00:14<00:00,  6.80it/s]"
          ]
        },
        {
          "output_type": "stream",
          "name": "stdout",
          "text": [
            "\n",
            "Мощность: 100.00%\n",
            "Корректность: 100.00%\n"
          ]
        },
        {
          "output_type": "stream",
          "name": "stderr",
          "text": [
            "\n"
          ]
        }
      ]
    },
    {
      "cell_type": "markdown",
      "source": [
        "\n",
        "Результаты показывают, что мощность и корректность для постстратифицированных данных обе равны 100%. Давайте разберем, почему это могло произойти:\n",
        "\n",
        "**Средние и дисперсии групп A и B:**\n",
        "\n",
        "* Среднее группы A: 0.1202\n",
        "* Среднее группы B: 0.1216\n",
        "* Дисперсии: A — 0.3326, B — 0.3585\n",
        "* Значения дисперсий выглядят реалистично, и различия между средними групп невелики, что соответствует реальным данным.\n",
        "\n",
        "**Мощность = 100%:**\n",
        "\n",
        "Это означает, что добавление эффекта (увеличение метрики группы B на 5%) во всех итерациях дало статистически значимый результат (p-value < 0.05).\n",
        "Вероятно, эффект в 5% оказался достаточно большим относительно уровня шума в данных, что делает тест крайне чувствительным.\n",
        "\n",
        "**Корректность = 100%:**\n",
        "\n",
        "Это может означать, что без добавления эффекта различия между группами A и B были статистически незначимыми (p-value >= 0.05) во всех итерациях.\n",
        "Высокая корректность указывает на то, что данные изначально хорошо сбалансированы, и постстратификация дополнительно улучшила это.\n",
        "\n",
        "**Вывод:**\n",
        "\n",
        "Постстратификация, вероятно, значительно сократила дисперсию данных внутри групп, что повысило чувствительность t-теста.\n",
        "Мощность и корректность равны 100% из-за низкого уровня шума, большого эффекта (5%), а также хорошо сбалансированных данных."
      ],
      "metadata": {
        "id": "HuoahBwylcoj"
      }
    },
    {
      "cell_type": "code",
      "source": [],
      "metadata": {
        "id": "1EPDQ4K4n3u9"
      },
      "execution_count": null,
      "outputs": []
    }
  ]
}